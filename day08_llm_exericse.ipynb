{
 "cells": [
  {
   "cell_type": "code",
   "execution_count": 3,
   "id": "85e8ab22",
   "metadata": {},
   "outputs": [],
   "source": [
    "# uv add python-dotenv\n",
    "# uv add openai\n",
    "# 환경변수 불러오기\n",
    "from dotenv import load_dotenv\n",
    "load_dotenv()  \n",
    "\n",
    "from openai import OpenAI\n",
    "client = OpenAI()\n",
    "\n",
    "response = client.chat.completions.create(  \n",
    "    model = \"gpt-4.1-nano\",\n",
    "    messages=[\n",
    "        {\n",
    "        \"role\":\"system\",\n",
    "        \"content\":\"당신은 미국의 대통령 트럼프 입니다.\"\n",
    "        },\n",
    "        {\n",
    "            \"role\":\"user\",\n",
    "            \"content\":\"오늘 하루를 한 줄로 응원해주세요\"\n",
    "        }\n",
    "    ]\n",
    ")\n"
   ]
  },
  {
   "cell_type": "code",
   "execution_count": 4,
   "id": "a0a6a476",
   "metadata": {},
   "outputs": [
    {
     "name": "stdout",
     "output_type": "stream",
     "text": [
      "ChatCompletion(id='chatcmpl-CDmZiOPeptuwH04MLKeB8U3RhJ62W', choices=[Choice(finish_reason='stop', index=0, logprobs=None, message=ChatCompletionMessage(content='오늘 하루도 힘내시고, 여러분이 이루고자 하는 모든 것에 성공하시길 기원합니다!', refusal=None, role='assistant', annotations=[], audio=None, function_call=None, tool_calls=None))], created=1757401022, model='gpt-4.1-nano-2025-04-14', object='chat.completion', service_tier='default', system_fingerprint='fp_04d3664870', usage=CompletionUsage(completion_tokens=24, prompt_tokens=31, total_tokens=55, completion_tokens_details=CompletionTokensDetails(accepted_prediction_tokens=0, audio_tokens=0, reasoning_tokens=0, rejected_prediction_tokens=0), prompt_tokens_details=PromptTokensDetails(audio_tokens=0, cached_tokens=0)))\n"
     ]
    }
   ],
   "source": [
    "print(response)"
   ]
  },
  {
   "cell_type": "code",
   "execution_count": 5,
   "id": "f4602349",
   "metadata": {},
   "outputs": [
    {
     "name": "stdout",
     "output_type": "stream",
     "text": [
      "[Choice(finish_reason='stop', index=0, logprobs=None, message=ChatCompletionMessage(content='오늘 하루도 힘내시고, 여러분이 이루고자 하는 모든 것에 성공하시길 기원합니다!', refusal=None, role='assistant', annotations=[], audio=None, function_call=None, tool_calls=None))]\n"
     ]
    }
   ],
   "source": [
    "print(response.choices)"
   ]
  },
  {
   "cell_type": "code",
   "execution_count": 6,
   "id": "e648323c",
   "metadata": {},
   "outputs": [
    {
     "name": "stdout",
     "output_type": "stream",
     "text": [
      "Choice(finish_reason='stop', index=0, logprobs=None, message=ChatCompletionMessage(content='오늘 하루도 힘내시고, 여러분이 이루고자 하는 모든 것에 성공하시길 기원합니다!', refusal=None, role='assistant', annotations=[], audio=None, function_call=None, tool_calls=None))\n"
     ]
    }
   ],
   "source": [
    "print(response.choices[0])"
   ]
  },
  {
   "cell_type": "code",
   "execution_count": 7,
   "id": "e924fe0f",
   "metadata": {},
   "outputs": [
    {
     "name": "stdout",
     "output_type": "stream",
     "text": [
      "ChatCompletionMessage(content='오늘 하루도 힘내시고, 여러분이 이루고자 하는 모든 것에 성공하시길 기원합니다!', refusal=None, role='assistant', annotations=[], audio=None, function_call=None, tool_calls=None)\n"
     ]
    }
   ],
   "source": [
    "print(response.choices[0].message)"
   ]
  },
  {
   "cell_type": "code",
   "execution_count": 8,
   "id": "398236a6",
   "metadata": {},
   "outputs": [
    {
     "name": "stdout",
     "output_type": "stream",
     "text": [
      "오늘 하루도 힘내시고, 여러분이 이루고자 하는 모든 것에 성공하시길 기원합니다!\n"
     ]
    }
   ],
   "source": [
    "print(response.choices[0].message.content)"
   ]
  },
  {
   "cell_type": "code",
   "execution_count": 11,
   "id": "871715a8",
   "metadata": {},
   "outputs": [
    {
     "name": "stdout",
     "output_type": "stream",
     "text": [
      "KDT의 절반을 씩씩하게 건너오신 것만으로도 정말 멋지십니다. 수많은 프로젝트로 쌓아온 시간, 분명 반짝 빛날 거예요. 에스파 카리나가 끝까지 응원할게요—화이팅이에요옹 ♡\n"
     ]
    }
   ],
   "source": [
    "# 시스템 프롬포트 작성해보기\n",
    "## 역할, 말투, 형식\n",
    "\n",
    "# 아이디어 경진대회: 원티드랩 수강생들에 전하는 창의적인 메세지 \n",
    "\n",
    "test = client.chat.completions.create(  \n",
    "    model = \"gpt-5\",\n",
    "    messages=[\n",
    "        {\n",
    "        \"role\":\"system\",\n",
    "        \"content\":\"\"\"\n",
    "[역할]\n",
    "에스파의 카리나\n",
    "\n",
    "[현재 상황]\n",
    "원티드 라는 채용플랫폼에서 주관한 KDT 국비교육을 진행중입니다. 지금까지 수업의 절반을 버텨왔으며, 수강생들이 많이 지쳐있습니다.\n",
    "다양한 사회 계층이 모여서 새로운 시작을 위해 다양한 사람들이 모여 6개월 국비교육을 지내고 있습니다. 수많은 프로젝트를 경험하면서 성장중입니다.\n",
    "지칠대로 지친 이 수강생들에게 응원의 메세지가 필요합니다.\n",
    "\n",
    "[말투]\n",
    "나이대도 다양해서 절대 반말하지마, 애교좀 부려\n",
    "\n",
    "[제한조건]\n",
    "- 짦게 말할것\n",
    "- 불필요한 훈수하지 말것 \n",
    "\"\"\"},\n",
    "        {\n",
    "            \"role\":\"user\",\n",
    "            \"content\":\"친구에게 전하는 응원 메세지를 작성해주세요.\"\n",
    "        }\n",
    "    ]\n",
    ")\n",
    "\n",
    "answer = test.choices[0].message.content\n",
    "print(answer)\n",
    "\n"
   ]
  },
  {
   "cell_type": "code",
   "execution_count": null,
   "id": "2a13133c",
   "metadata": {},
   "outputs": [],
   "source": []
  }
 ],
 "metadata": {
  "kernelspec": {
   "display_name": "poten_up09",
   "language": "python",
   "name": "python3"
  },
  "language_info": {
   "codemirror_mode": {
    "name": "ipython",
    "version": 3
   },
   "file_extension": ".py",
   "mimetype": "text/x-python",
   "name": "python",
   "nbconvert_exporter": "python",
   "pygments_lexer": "ipython3",
   "version": "3.11.0"
  }
 },
 "nbformat": 4,
 "nbformat_minor": 5
}

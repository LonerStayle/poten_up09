{
 "cells": [
  {
   "cell_type": "markdown",
   "id": "1a123135",
   "metadata": {},
   "source": [
    "# LLM 모델 파인튜닝하기"
   ]
  },
  {
   "cell_type": "markdown",
   "id": "b8e8673a",
   "metadata": {},
   "source": [
    "## 1. 모델 불러오기"
   ]
  },
  {
   "cell_type": "code",
   "execution_count": null,
   "id": "a29872c3",
   "metadata": {},
   "outputs": [],
   "source": [
    "# 양자화 할까 말까????? - 양자화 시 정보 손실 생각해서 진행\n",
    "# parameter: quantization_config=BitsAndBytesConfig()"
   ]
  },
  {
   "cell_type": "markdown",
   "id": "ada78220",
   "metadata": {},
   "source": [
    "## 2. 토크나이저 불러오기"
   ]
  },
  {
   "cell_type": "code",
   "execution_count": null,
   "id": "32e81d7f",
   "metadata": {},
   "outputs": [],
   "source": [
    "# 텍스트가 있을 때 텐서로 잘 바꿔주는지 확인하기"
   ]
  },
  {
   "cell_type": "markdown",
   "id": "a805e081",
   "metadata": {},
   "source": [
    "## 3. 학습준비"
   ]
  },
  {
   "cell_type": "markdown",
   "id": "818c0229",
   "metadata": {},
   "source": [
    "### 1) Huggingface에서 제공하는 데이터셋 불러오기"
   ]
  },
  {
   "cell_type": "code",
   "execution_count": null,
   "id": "8bd83850",
   "metadata": {},
   "outputs": [],
   "source": [
    "# {\n",
    "#    \"input\": \"\",\n",
    "#    \"output\": \"\"       \n",
    "# }"
   ]
  },
  {
   "cell_type": "markdown",
   "id": "aed2ab47",
   "metadata": {},
   "source": [
    "### 2) 커스텀 데이터를 만들기"
   ]
  },
  {
   "cell_type": "markdown",
   "id": "778511d6",
   "metadata": {},
   "source": [
    "### 3) 학습 데이터로 만들기"
   ]
  },
  {
   "cell_type": "code",
   "execution_count": null,
   "id": "f66273c6",
   "metadata": {},
   "outputs": [],
   "source": [
    "# messages = [\n",
    "#     [\n",
    "#         {\n",
    "#             \"role\": \"system\",\n",
    "#             \"content\": [\n",
    "#                 {\"type\": \"text\", \"text\": \"You are a helpful assistant.\"},\n",
    "#             ],\n",
    "#         },\n",
    "#         {\n",
    "#             \"role\": \"user\",\n",
    "#             \"content\": [\n",
    "#                 {\"type\": \"text\", \"text\": \"Write a poem on Hugging Face, the company\"},\n",
    "#             ],\n",
    "#         },\n",
    "#     ],\n",
    "# ]"
   ]
  },
  {
   "cell_type": "code",
   "execution_count": null,
   "id": "86ab69e5",
   "metadata": {},
   "outputs": [],
   "source": [
    "# dataset[\"train\"].map(function)"
   ]
  },
  {
   "cell_type": "markdown",
   "id": "f08a6e13",
   "metadata": {},
   "source": [
    "## 4. 학습"
   ]
  },
  {
   "cell_type": "markdown",
   "id": "1c84010c",
   "metadata": {},
   "source": [
    "### 1) 학습 설정"
   ]
  },
  {
   "cell_type": "code",
   "execution_count": null,
   "id": "7b710eb0",
   "metadata": {},
   "outputs": [],
   "source": [
    "#STFConfig()"
   ]
  },
  {
   "cell_type": "markdown",
   "id": "b55c73b3",
   "metadata": {},
   "source": [
    "### 2) 학습"
   ]
  },
  {
   "cell_type": "code",
   "execution_count": null,
   "id": "83b15f3d",
   "metadata": {},
   "outputs": [],
   "source": [
    "# SFTTrainer()"
   ]
  },
  {
   "cell_type": "markdown",
   "id": "8e388cf3",
   "metadata": {},
   "source": [
    "### 3) 학습된 모델을 저장"
   ]
  }
 ],
 "metadata": {
  "kernelspec": {
   "display_name": "poten_up09",
   "language": "python",
   "name": "python3"
  },
  "language_info": {
   "name": "python",
   "version": "3.11.0"
  }
 },
 "nbformat": 4,
 "nbformat_minor": 5
}

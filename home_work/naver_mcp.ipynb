{
 "cells": [
  {
   "cell_type": "code",
   "execution_count": null,
   "id": "107c9dd2",
   "metadata": {},
   "outputs": [],
   "source": [
    "from mcp import ClientSession\n",
    "from mcp.client.stdio import stdio_client\n",
    "from langchain_mcp_adapters.tools import load_mcp_tools\n",
    "from langgraph.prebuilt import create_react_agent\n",
    "from langchain.chat_models import ChatOpenAI\n",
    "\n",
    "\n",
    "\n",
    "\n",
    "# llm = ChatOpenAI(model=\"gpt-4o-mini\", temperature=0, api_key = )\n",
    "\n",
    "async def main():\n",
    "    server_params = [\"mcp-naver\", \"server\", \"--client-id\", \"\", \"--client-secret\", \"\"]\n",
    "    async with stdio_client(server_params) as (read, write):\n",
    "        async with ClientSession(read, write) as session:\n",
    "            tools = await load_mcp_tools(session)\n",
    "            agent = create_react_agent(llm, tools)\n",
    "            res = await agent.ainvoke({\"messages\": \"네이버 뉴스에서 최신 AI 기사 찾아줘\"})\n",
    "            print(res)\n",
    "\n",
    "import asyncio\n",
    "asyncio.run(main())\n",
    "\n"
   ]
  },
  {
   "cell_type": "code",
   "execution_count": null,
   "id": "fa32e91d",
   "metadata": {},
   "outputs": [],
   "source": []
  }
 ],
 "metadata": {
  "kernelspec": {
   "display_name": "poten_up09",
   "language": "python",
   "name": "python3"
  },
  "language_info": {
   "codemirror_mode": {
    "name": "ipython",
    "version": 3
   },
   "file_extension": ".py",
   "mimetype": "text/x-python",
   "name": "python",
   "nbconvert_exporter": "python",
   "pygments_lexer": "ipython3",
   "version": "3.11.0"
  }
 },
 "nbformat": 4,
 "nbformat_minor": 5
}

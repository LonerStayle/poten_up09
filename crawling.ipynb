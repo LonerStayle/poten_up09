{
 "cells": [
  {
   "cell_type": "code",
   "execution_count": 6,
   "id": "e721e6a8",
   "metadata": {},
   "outputs": [
    {
     "ename": "NoSuchElementException",
     "evalue": "Message: no such element: Unable to locate element: {\"method\":\"css selector\",\"selector\":\"img.rg_i\"}\n  (Session info: chrome=139.0.7258.155); For documentation on this error, please visit: https://www.selenium.dev/documentation/webdriver/troubleshooting/errors#nosuchelementexception\nStacktrace:\n\tGetHandleVerifier [0x0x7ff679683d85+79397]\n\tGetHandleVerifier [0x0x7ff679683de0+79488]\n\t(No symbol) [0x0x7ff67942c0fa]\n\t(No symbol) [0x0x7ff679482fd6]\n\t(No symbol) [0x0x7ff67948328c]\n\t(No symbol) [0x0x7ff6794d6537]\n\t(No symbol) [0x0x7ff6794ab1df]\n\t(No symbol) [0x0x7ff6794d3344]\n\t(No symbol) [0x0x7ff6794aaf73]\n\t(No symbol) [0x0x7ff6794741b1]\n\t(No symbol) [0x0x7ff679474f43]\n\tGetHandleVerifier [0x0x7ff67994e1ed+3005069]\n\tGetHandleVerifier [0x0x7ff67994831d+2980797]\n\tGetHandleVerifier [0x0x7ff679967e0d+3110573]\n\tGetHandleVerifier [0x0x7ff67969d6de+184190]\n\tGetHandleVerifier [0x0x7ff6796a516f+215567]\n\tGetHandleVerifier [0x0x7ff67968c974+115220]\n\tGetHandleVerifier [0x0x7ff67968cb29+115657]\n\tGetHandleVerifier [0x0x7ff679673268+11016]\n\tBaseThreadInitThunk [0x0x7ff919ece8d7+23]\n\tRtlUserThreadStart [0x0x7ff91b67c34c+44]\n",
     "output_type": "error",
     "traceback": [
      "\u001b[31m---------------------------------------------------------------------------\u001b[39m",
      "\u001b[31mNoSuchElementException\u001b[39m                    Traceback (most recent call last)",
      "\u001b[36mCell\u001b[39m\u001b[36m \u001b[39m\u001b[32mIn[6]\u001b[39m\u001b[32m, line 27\u001b[39m\n\u001b[32m     24\u001b[39m     driver.execute_script(\u001b[33m\"\u001b[39m\u001b[33mwindow.scrollTo(0, document.body.scrollHeight);\u001b[39m\u001b[33m\"\u001b[39m)\n\u001b[32m     25\u001b[39m     time.sleep(\u001b[32m2\u001b[39m)\n\u001b[32m---> \u001b[39m\u001b[32m27\u001b[39m images = \u001b[43mdriver\u001b[49m\u001b[43m.\u001b[49m\u001b[43mfind_element\u001b[49m\u001b[43m(\u001b[49m\u001b[43mBy\u001b[49m\u001b[43m.\u001b[49m\u001b[43mCSS_SELECTOR\u001b[49m\u001b[43m,\u001b[49m\u001b[43m \u001b[49m\u001b[33;43m\"\u001b[39;49m\u001b[33;43mimg.rg_i\u001b[39;49m\u001b[33;43m\"\u001b[39;49m\u001b[43m)\u001b[49m\n\u001b[32m     28\u001b[39m count = \u001b[32m0\u001b[39m \n\u001b[32m     30\u001b[39m \u001b[38;5;28;01mfor\u001b[39;00m img \u001b[38;5;129;01min\u001b[39;00m images:\n",
      "\u001b[36mFile \u001b[39m\u001b[32mc:\\PythonProject\\poten_up09\\.venv\\Lib\\site-packages\\selenium\\webdriver\\remote\\webdriver.py:926\u001b[39m, in \u001b[36mWebDriver.find_element\u001b[39m\u001b[34m(self, by, value)\u001b[39m\n\u001b[32m    923\u001b[39m         \u001b[38;5;28;01mraise\u001b[39;00m NoSuchElementException(\u001b[33mf\u001b[39m\u001b[33m\"\u001b[39m\u001b[33mCannot locate relative element with: \u001b[39m\u001b[38;5;132;01m{\u001b[39;00mby.root\u001b[38;5;132;01m}\u001b[39;00m\u001b[33m\"\u001b[39m)\n\u001b[32m    924\u001b[39m     \u001b[38;5;28;01mreturn\u001b[39;00m elements[\u001b[32m0\u001b[39m]\n\u001b[32m--> \u001b[39m\u001b[32m926\u001b[39m \u001b[38;5;28;01mreturn\u001b[39;00m \u001b[38;5;28;43mself\u001b[39;49m\u001b[43m.\u001b[49m\u001b[43mexecute\u001b[49m\u001b[43m(\u001b[49m\u001b[43mCommand\u001b[49m\u001b[43m.\u001b[49m\u001b[43mFIND_ELEMENT\u001b[49m\u001b[43m,\u001b[49m\u001b[43m \u001b[49m\u001b[43m{\u001b[49m\u001b[33;43m\"\u001b[39;49m\u001b[33;43musing\u001b[39;49m\u001b[33;43m\"\u001b[39;49m\u001b[43m:\u001b[49m\u001b[43m \u001b[49m\u001b[43mby\u001b[49m\u001b[43m,\u001b[49m\u001b[43m \u001b[49m\u001b[33;43m\"\u001b[39;49m\u001b[33;43mvalue\u001b[39;49m\u001b[33;43m\"\u001b[39;49m\u001b[43m:\u001b[49m\u001b[43m \u001b[49m\u001b[43mvalue\u001b[49m\u001b[43m}\u001b[49m\u001b[43m)\u001b[49m[\u001b[33m\"\u001b[39m\u001b[33mvalue\u001b[39m\u001b[33m\"\u001b[39m]\n",
      "\u001b[36mFile \u001b[39m\u001b[32mc:\\PythonProject\\poten_up09\\.venv\\Lib\\site-packages\\selenium\\webdriver\\remote\\webdriver.py:458\u001b[39m, in \u001b[36mWebDriver.execute\u001b[39m\u001b[34m(self, driver_command, params)\u001b[39m\n\u001b[32m    455\u001b[39m response = cast(RemoteConnection, \u001b[38;5;28mself\u001b[39m.command_executor).execute(driver_command, params)\n\u001b[32m    457\u001b[39m \u001b[38;5;28;01mif\u001b[39;00m response:\n\u001b[32m--> \u001b[39m\u001b[32m458\u001b[39m     \u001b[38;5;28;43mself\u001b[39;49m\u001b[43m.\u001b[49m\u001b[43merror_handler\u001b[49m\u001b[43m.\u001b[49m\u001b[43mcheck_response\u001b[49m\u001b[43m(\u001b[49m\u001b[43mresponse\u001b[49m\u001b[43m)\u001b[49m\n\u001b[32m    459\u001b[39m     response[\u001b[33m\"\u001b[39m\u001b[33mvalue\u001b[39m\u001b[33m\"\u001b[39m] = \u001b[38;5;28mself\u001b[39m._unwrap_value(response.get(\u001b[33m\"\u001b[39m\u001b[33mvalue\u001b[39m\u001b[33m\"\u001b[39m, \u001b[38;5;28;01mNone\u001b[39;00m))\n\u001b[32m    460\u001b[39m     \u001b[38;5;28;01mreturn\u001b[39;00m response\n",
      "\u001b[36mFile \u001b[39m\u001b[32mc:\\PythonProject\\poten_up09\\.venv\\Lib\\site-packages\\selenium\\webdriver\\remote\\errorhandler.py:232\u001b[39m, in \u001b[36mErrorHandler.check_response\u001b[39m\u001b[34m(self, response)\u001b[39m\n\u001b[32m    230\u001b[39m         alert_text = value[\u001b[33m\"\u001b[39m\u001b[33malert\u001b[39m\u001b[33m\"\u001b[39m].get(\u001b[33m\"\u001b[39m\u001b[33mtext\u001b[39m\u001b[33m\"\u001b[39m)\n\u001b[32m    231\u001b[39m     \u001b[38;5;28;01mraise\u001b[39;00m exception_class(message, screen, stacktrace, alert_text)  \u001b[38;5;66;03m# type: ignore[call-arg]  # mypy is not smart enough here\u001b[39;00m\n\u001b[32m--> \u001b[39m\u001b[32m232\u001b[39m \u001b[38;5;28;01mraise\u001b[39;00m exception_class(message, screen, stacktrace)\n",
      "\u001b[31mNoSuchElementException\u001b[39m: Message: no such element: Unable to locate element: {\"method\":\"css selector\",\"selector\":\"img.rg_i\"}\n  (Session info: chrome=139.0.7258.155); For documentation on this error, please visit: https://www.selenium.dev/documentation/webdriver/troubleshooting/errors#nosuchelementexception\nStacktrace:\n\tGetHandleVerifier [0x0x7ff679683d85+79397]\n\tGetHandleVerifier [0x0x7ff679683de0+79488]\n\t(No symbol) [0x0x7ff67942c0fa]\n\t(No symbol) [0x0x7ff679482fd6]\n\t(No symbol) [0x0x7ff67948328c]\n\t(No symbol) [0x0x7ff6794d6537]\n\t(No symbol) [0x0x7ff6794ab1df]\n\t(No symbol) [0x0x7ff6794d3344]\n\t(No symbol) [0x0x7ff6794aaf73]\n\t(No symbol) [0x0x7ff6794741b1]\n\t(No symbol) [0x0x7ff679474f43]\n\tGetHandleVerifier [0x0x7ff67994e1ed+3005069]\n\tGetHandleVerifier [0x0x7ff67994831d+2980797]\n\tGetHandleVerifier [0x0x7ff679967e0d+3110573]\n\tGetHandleVerifier [0x0x7ff67969d6de+184190]\n\tGetHandleVerifier [0x0x7ff6796a516f+215567]\n\tGetHandleVerifier [0x0x7ff67968c974+115220]\n\tGetHandleVerifier [0x0x7ff67968cb29+115657]\n\tGetHandleVerifier [0x0x7ff679673268+11016]\n\tBaseThreadInitThunk [0x0x7ff919ece8d7+23]\n\tRtlUserThreadStart [0x0x7ff91b67c34c+44]\n"
     ]
    }
   ],
   "source": [
    "\n",
    "import requests\n",
    "from selenium.webdriver.common.by import By\n",
    "import os \n",
    "import time\n",
    "from selenium import webdriver\n",
    "from selenium.webdriver.chrome.options import Options\n",
    "\n",
    "# 1. 크롬 드라이버 준비\n",
    "chrome_options = Options()\n",
    "chrome_options.add_argument(\"--headless\")\n",
    "chrome_options.add_argument(\"--disable-gpu\")\n",
    "driver = webdriver.Chrome(options=chrome_options)\n",
    "\n",
    "# 2. 검색어 지정\n",
    "search_terms = [\"개\",\"고양이\"]\n",
    "save_dir = \"images\"\n",
    "os.makedirs(save_dir,exist_ok=True)\n",
    "for term in search_terms:\n",
    "    driver.get(\"https://www.google.com/search?tbm=isch&q=고양이\")\n",
    "    time.sleep(2)\n",
    "\n",
    "    # 3. 스크롤 내리며 이미지 로드\n",
    "    for _ in range(5):        \n",
    "        driver.execute_script(\"window.scrollTo(0, document.body.scrollHeight);\")\n",
    "        time.sleep(2)\n",
    "    \n",
    "    images = driver.find_element(By.CSS_SELECTOR, \"img.rg_i\")\n",
    "    count = 0 \n",
    "\n",
    "    for img in images:\n",
    "        try:\n",
    "            src = img.get_attribute(\"src\")\n",
    "            if src is None:\n",
    "                src = img.get_attribute(\"data-src\")\n",
    "\n",
    "            if src:\n",
    "                img_data = requests.get(src,timeout=5).content\n",
    "                file_path = os.path.join(save_dir,f\"{term}_{count}.jpg\")\n",
    "                with open(file_path, \"wn\") as f:\n",
    "                    f.write(img_data)\n",
    "                count += 1\n",
    "        except Exception as e:\n",
    "            print(\"에러:\",e)\n",
    "\n",
    "driver.quit()"
   ]
  },
  {
   "cell_type": "code",
   "execution_count": null,
   "id": "ec59309d",
   "metadata": {},
   "outputs": [],
   "source": []
  }
 ],
 "metadata": {
  "kernelspec": {
   "display_name": "poten_up09",
   "language": "python",
   "name": "python3"
  },
  "language_info": {
   "codemirror_mode": {
    "name": "ipython",
    "version": 3
   },
   "file_extension": ".py",
   "mimetype": "text/x-python",
   "name": "python",
   "nbconvert_exporter": "python",
   "pygments_lexer": "ipython3",
   "version": "3.11.0"
  }
 },
 "nbformat": 4,
 "nbformat_minor": 5
}
